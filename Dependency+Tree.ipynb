{
 "cells": [
  {
   "cell_type": "code",
   "execution_count": null,
   "metadata": {},
   "outputs": [],
   "source": [
    "from datascience import *\n",
    "from urllib.request import urlopen\n",
    "import numpy as np\n",
    "from datascience import *\n",
    "import spacy\n",
    "% matplotlib inline\n",
    "\n",
    "\n",
    "\n"
   ]
  },
  {
   "cell_type": "code",
   "execution_count": null,
   "metadata": {},
   "outputs": [],
   "source": [
    "!python -m spacy download en"
   ]
  },
  {
   "cell_type": "code",
   "execution_count": null,
   "metadata": {},
   "outputs": [],
   "source": [
    "UN_articles_term=\"Legal Non-Legal Non-Legal Both Non-Legal Legal Both Legal Both Legal Non-Legal Legal \\\n",
    "Legal Legal Legal Legal Legal Legal\\\n",
    "Legal Legal Legal Legal Legal Legal Legal Legal Both Legal Both\"\n",
    "UN_articles_terms_accurate = UN_articles_term.split()"
   ]
  },
  {
   "cell_type": "code",
   "execution_count": null,
   "metadata": {},
   "outputs": [],
   "source": [
    "UN_articles=\"Article1 Article2 Article3 Article4 Article5 Article6 Article7 Article8 Article9 Article10 Article11 Article12 \\\n",
    "Article13 Article14 Article15 Article16 Article17 Article18\\\n",
    "Article19 Article20 Article21 Article22 Article23 Article24 Article25 Article26 Article27 Article28 Article29 \"\n",
    "UN_articles_list = UN_articles.split()"
   ]
  },
  {
   "cell_type": "code",
   "execution_count": null,
   "metadata": {},
   "outputs": [],
   "source": [
    "comparision_table= Table().with_column('Names',UN_articles_list, 'Correct Identification',UN_articles_terms_accurate)\n"
   ]
  },
  {
   "cell_type": "code",
   "execution_count": null,
   "metadata": {},
   "outputs": [],
   "source": [
    "my_features = make_array('shall','should','may','recognize','will','undertaking','enhancing','choose','voluntary','contribute ','promote','incentivize',' adopt',' assist',' assistance')\n"
   ]
  },
  {
   "cell_type": "code",
   "execution_count": null,
   "metadata": {},
   "outputs": [],
   "source": [
    "article1_final2= \"\"\"For the purpose of this Agreement, the definitions contained in Article 1 of \\\n",
    "the Convention shall apply. In addition : \\\n",
    "- 2 - \\\n",
    "(a) \" Convention \" means the United Nations Framework Convention on\\\n",
    "Climate Change, adopted in New York on 9 May 1992 ;\\\n",
    "(b) \" Conference of the Parties \" means the Conference of the Parties to the \\\n",
    "Convention ; \\\n",
    " (c) Party means a Party to this Agreement.\"\"\" \n",
    "UN_article1_list = article1_final2.split()"
   ]
  },
  {
   "cell_type": "code",
   "execution_count": null,
   "metadata": {},
   "outputs": [],
   "source": [
    "parsed_text = en_nlp(article1_final2)\n",
    "parsed_text"
   ]
  },
  {
   "cell_type": "code",
   "execution_count": null,
   "metadata": {},
   "outputs": [],
   "source": [
    "from spacy.symbols import nsubj, VERB\n",
    "\n",
    "SV = []\n",
    "for possible_subject in parsed_text:\n",
    "    if possible_subject.dep == nsubj and possible_subject.head.pos == VERB:\n",
    "        SV.append((possible_subject.text, possible_subject.head))"
   ]
  },
  {
   "cell_type": "code",
   "execution_count": null,
   "metadata": {},
   "outputs": [],
   "source": [
    "print (SV)"
   ]
  },
  {
   "cell_type": "code",
   "execution_count": null,
   "metadata": {},
   "outputs": [],
   "source": [
    "def tablefy(parsed_text):\n",
    "    toks_tab = Table()\n",
    "    toks_tab.append_column(label=\"Word\", values=[word.text for word in parsed_text])\n",
    "    toks_tab.append_column(label=\"POS\", values=[word.pos_ for word in parsed_text])\n",
    "    toks_tab.append_column(label=\"Lemma\", values=[word.lemma_ for word in parsed_text])\n",
    "    toks_tab.append_column(label=\"Stop Word\", values=[word.is_stop for word in parsed_text])\n",
    "    toks_tab.append_column(label=\"Punctuation\", values=[word.is_punct for word in parsed_text])\n",
    "    toks_tab.append_column(label=\"Space\", values=[word.is_space for word in parsed_text])\n",
    "    toks_tab.append_column(label=\"Number\", values=[word.like_num for word in parsed_text])\n",
    "    toks_tab.append_column(label=\"OOV\", values=[word.is_oov for word in parsed_text])\n",
    "    toks_tab.append_column(label=\"Dependency\", values=[word.dep_ for word in parsed_text])\n",
    "    return toks_tab"
   ]
  },
  {
   "cell_type": "code",
   "execution_count": null,
   "metadata": {},
   "outputs": [],
   "source": [
    "from spacy.symbols import nsubj, VERB\n",
    "\n",
    "SV = []\n",
    "for possible_subject in parsed_text:\n",
    "    if possible_subject.dep == nsubj and possible_subject.head.pos == VERB:\n",
    "        SV.append((possible_subject.text, possible_subject.head))"
   ]
  },
  {
   "cell_type": "code",
   "execution_count": null,
   "metadata": {},
   "outputs": [],
   "source": [
    "import spacy\n",
    "from nltk import Tree"
   ]
  },
  {
   "cell_type": "code",
   "execution_count": null,
   "metadata": {},
   "outputs": [],
   "source": [
    "import spacy\n",
    "from nltk import Tree\n",
    "\n",
    "\n",
    "en_nlp = spacy.load('en')\n",
    "\n",
    "doc = en_nlp(\"\"\"For the purpose of this Agreement, the definitions contained in Article 1 of \\\n",
    "the Convention shall apply. In addition : \\\n",
    "- 2 - \\\n",
    "(a) \" Convention \" means the United Nations Framework Convention on\\\n",
    "Climate Change, adopted in New York on 9 May 1992 ;\\\n",
    "(b) \" Conference of the Parties \" means the Conference of the Parties to the \\\n",
    "Convention ; \\\n",
    " (c) Party means a Party to this Agreement.\"\"\" )\n",
    "\n",
    "def to_nltk_tree(node):\n",
    "    if node.n_lefts + node.n_rights > 0:\n",
    "        return Tree(node.orth_, [to_nltk_tree(child) for child in node.children])\n",
    "    else:\n",
    "        return node.orth_\n",
    "\n",
    "\n",
    "[to_nltk_tree(sent.root).pretty_print() for sent in doc.sents]"
   ]
  },
  {
   "cell_type": "code",
   "execution_count": null,
   "metadata": {},
   "outputs": [],
   "source": [
    "article1_draft1=\"\"\"For the purpose of this Agreement, the definitions contained in Article 1 of the Convention apply. In addition:\\\n",
    "COP 21 - Draft text agenda item 4 (b) - version 2\\\n",
    "17 of 27\\\n",
    "1. \"Convention\" means the United Nations Framework Convention on Climate Change, adopted in New York on 9\\\n",
    "May 1992;\\\n",
    "2. \"Conference of the Parties\" means the Conference of the Parties to the Convention;\\\n",
    "3. “Party” means a Party to this Agreement.\"\"\""
   ]
  },
  {
   "cell_type": "code",
   "execution_count": null,
   "metadata": {},
   "outputs": [],
   "source": [
    "\n",
    "en_nlp=spacy.load('en')\n",
    "\n",
    "doc =en_nlp(\"\"\"For the purpose of this Agreement, the definitions contained in Article 1 of the Convention apply. In addition:\\\n",
    "COP 21 - Draft text agenda item 4 (b) - version 2\\\n",
    "17 of 27\\\n",
    "1. \"Convention\" means the United Nations Framework Convention on Climate Change, adopted in New York on 9\\\n",
    "May 1992;\\\n",
    "2. \"Conference of the Parties\" means the Conference of the Parties to the Convention;\\\n",
    "3. “Party” means a Party to this Agreement.\"\"\")\n",
    "\n",
    "def to_nltk_tree(node):\n",
    "    if node.n_lefts + node.n_rights > 0:\n",
    "        return Tree(node.orth_, [to_nltk_tree(child) for child in node.children])\n",
    "    else:\n",
    "        return node.orth_\n",
    "\n",
    "\n",
    "[to_nltk_tree(sent.root).pretty_print() for sent in doc.sents]"
   ]
  },
  {
   "cell_type": "code",
   "execution_count": null,
   "metadata": {},
   "outputs": [],
   "source": [
    "\"\"\"1. Parties recognize the importance of averting, minimizing and addressing loss\\\n",
    "and damage associated with the adverse effects of climate change, including\\\n",
    "extreme weather events and slow onset events, and the role of sustainable\\\n",
    "development in reducing the risk of loss and damage.\\\n",
    "2. The Warsaw International Mechanism for Loss and Damage associated with\\\n",
    "Climate Change Impacts shall be subject to the authority and guidance of the\\\n",
    "Conference of the Parties serving as the meeting of the Parties to this Agreement\\\n",
    "and may be enhanced and strengthened, as determined by the Conference of the\\\n",
    "Parties serving as the meeting of the Parties to this Agreement.\\\n",
    "3. Parties should enhance understanding, action and support, including through\\\n",
    "the Warsaw International Mechanism, as appropriate, on a cooperative and\\\n",
    "facilitative basis with respect to loss and damage associated with the adverse\\\n",
    "effects of climate change.\\\n",
    "4. Accordingly, areas of cooperation and facilitation to enhance understanding,\\\n",
    "action and support may include:\\\n",
    "5. The Warsaw International Mechanism shall collaborate with existing bodies\\\n",
    "and expert groups under the Agreement, as well as relevant organizations and \\\n",
    "expert bodies outside the Agreement. \"\"\" "
   ]
  },
  {
   "cell_type": "code",
   "execution_count": null,
   "metadata": {},
   "outputs": [],
   "source": [
    "en_nlp=spacy.load('en')\n",
    "\n",
    "doc =en_nlp(\"\"\"1. Parties recognize the importance of averting, minimizing and addressing loss\\\n",
    "and damage associated with the adverse effects of climate change, including\\\n",
    "extreme weather events and slow onset events, and the role of sustainable\\\n",
    "development in reducing the risk of loss and damage. \"\"\" )\n",
    "\n",
    "def to_nltk_tree(node):\n",
    "    if node.n_lefts + node.n_rights > 0:\n",
    "        return Tree(node.orth_, [to_nltk_tree(child) for child in node.children])\n",
    "    else:\n",
    "        return node.orth_\n",
    "\n",
    "\n",
    "[to_nltk_tree(sent.root).pretty_print() for sent in doc.sents]"
   ]
  },
  {
   "cell_type": "code",
   "execution_count": null,
   "metadata": {},
   "outputs": [],
   "source": [
    "en_nlp=spacy.load('en')\n",
    "\n",
    "doc =en_nlp(\"\"\" The following text to be part of Article 4 alongside adaptation provision\\\n",
    "1. [The Warsaw International Mechanism for Loss and Damage associated with Climate Change Impacts \\\n",
    "shall serve this Agreement.\\\n",
    "2. Upon the completion of its review at the twenty-second session of the COP,9 the Warsaw\\ International Mechanism shall be subject to the authority and guidance of the CMA and supported \\\n",
    "through the Financial Mechanism of the Convention.\\\n",
    "3. A climate change displacement coordination facility shall be established under the [Warsaw\\International Mechanism][CMA] to help coordinate efforts to address climate change induced \\\n",
    "displacement, migration and planned relocation.\\\n",
    "4. A process to develop approaches to address irreversible and permanent damage resulting from\\ human-induced climate change will be initiated under the [Warsaw International Mechanism][CMA] \\\n",
    "with a view to completing this process within four years.\"\"\")\n",
    "\n",
    "def to_nltk_tree(node):\n",
    "    if node.n_lefts + node.n_rights > 0:\n",
    "        return Tree(node.orth_, [to_nltk_tree(child) for child in node.children])\n",
    "    else:\n",
    "        return node.orth_\n",
    "\n",
    "\n",
    "[to_nltk_tree(sent.root).pretty_print() for sent in doc.sents]"
   ]
  },
  {
   "cell_type": "code",
   "execution_count": null,
   "metadata": {},
   "outputs": [],
   "source": [
    "from IPython.display import IFrame"
   ]
  },
  {
   "cell_type": "code",
   "execution_count": null,
   "metadata": {},
   "outputs": [],
   "source": [
    "IFrame('https://demos.explosion.ai/displacy/?text=For%20the%20purpose%20of%20this%20Agreement%2C%20the%20definitions%20contained%20in%20Article%201%20of%20the%20Convention%20shall%20apply.%20In%20addition%20%3A%20-%202%20-%20(a)%20%22%20Convention%20%22%20means%20the%20United%20Nations%20Framework%20Convention%20onClimate%20Change%2C%20adopted%20in%20New%20York%20on%209%20May%201992%20%3B(b)%20%22%20Conference%20of%20the%20Parties%20%22%20means%20the%20Conference%20of%20the%20Parties%20to%20the%20Convention%20%3B%20%20(c)%20Party%20means%20a%20Party%20to%20this%20Agreement.&model=en_core_web_sm&cpu=1&cph=1',width=1500,height=1500)"
   ]
  },
  {
   "cell_type": "code",
   "execution_count": null,
   "metadata": {},
   "outputs": [],
   "source": [
    "import spacy\n",
    "nlp = spacy.load('en')\n",
    "doc = nlp('First, I wrote some sentences. Then spaCy parsed them. Hooray!')"
   ]
  },
  {
   "cell_type": "code",
   "execution_count": null,
   "metadata": {},
   "outputs": [],
   "source": []
  }
 ],
 "metadata": {
  "kernelspec": {
   "display_name": "Python 3",
   "language": "python",
   "name": "python3"
  },
  "language_info": {
   "codemirror_mode": {
    "name": "ipython",
    "version": 3
   },
   "file_extension": ".py",
   "mimetype": "text/x-python",
   "name": "python",
   "nbconvert_exporter": "python",
   "pygments_lexer": "ipython3",
   "version": "3.6.1"
  }
 },
 "nbformat": 4,
 "nbformat_minor": 2
}
